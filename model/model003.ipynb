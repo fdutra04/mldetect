{
  "nbformat": 4,
  "nbformat_minor": 0,
  "metadata": {
    "colab": {
      "name": "veremiMLP002.ipynb",
      "provenance": [],
      "collapsed_sections": [],
      "include_colab_link": true
    },
    "kernelspec": {
      "name": "python3",
      "display_name": "Python 3"
    },
    "language_info": {
      "name": "python"
    },
    "accelerator": "GPU"
  },
  "cells": [
    {
      "cell_type": "markdown",
      "metadata": {
        "id": "view-in-github",
        "colab_type": "text"
      },
      "source": [
        "<a href=\"https://colab.research.google.com/github/fdutra04/mldetect/blob/main/model/model003.ipynb\" target=\"_parent\"><img src=\"https://colab.research.google.com/assets/colab-badge.svg\" alt=\"Open In Colab\"/></a>"
      ]
    },
    {
      "cell_type": "code",
      "metadata": {
        "id": "yFabf6D8PIE1"
      },
      "source": [
        "# MLP 002\n",
        "# input layer - 7 * 12 attributes\n",
        "# 2 hidden layers of 20 neurons each\n",
        "# 1 output neuron\n",
        "# activator function- ADAM\n",
        "# loss function - binary cross-entropy"
      ],
      "execution_count": null,
      "outputs": []
    },
    {
      "cell_type": "code",
      "metadata": {
        "id": "9t-XMLKh2Fh0",
        "colab": {
          "base_uri": "https://localhost:8080/"
        },
        "outputId": "939764f9-86c8-460a-d088-4c22ef3331fb"
      },
      "source": [
        "from google.colab import drive\n",
        "drive.mount('/content/drive')\n",
        "import os\n",
        "import numpy as np\n",
        "import pandas as pd\n",
        "import tensorflow as tf\n",
        "from tensorflow import keras\n",
        "from tensorflow.keras.layers import Dense, Input\n",
        "import time\n",
        "import warnings\n",
        "warnings.simplefilter(action='ignore', category=FutureWarning)"
      ],
      "execution_count": null,
      "outputs": [
        {
          "output_type": "stream",
          "name": "stdout",
          "text": [
            "Mounted at /content/drive\n"
          ]
        }
      ]
    },
    {
      "cell_type": "code",
      "metadata": {
        "id": "i5JX3DlMOBxw",
        "colab": {
          "base_uri": "https://localhost:8080/"
        },
        "outputId": "64170f8b-9b7a-417b-a9e5-8b16b5051b89"
      },
      "source": [
        "veremiPath = \"/content/drive/MyDrive/dataset/veremi\"\n",
        "t2Path = \"/veremiWithT2\"\n",
        "simcsvPath = '/simulationscsv'\n",
        "mlp002Path = \"/mlp002\"\n",
        "os.chdir(veremiPath+t2Path+simcsvPath)\n",
        "os.listdir()[-1:]\n",
        "# data = pd.read_csv(os.listdir()[0], index_col=0)\n",
        "# data = data.drop(columns=['type', 'noise', 'spd_noise', 'pos_noise', 'messageID'])\n",
        "# data"
      ],
      "execution_count": null,
      "outputs": [
        {
          "output_type": "execute_result",
          "data": {
            "text/plain": [
              "['veins_maat.uc1.14505228.180205_165541.csv']"
            ]
          },
          "metadata": {},
          "execution_count": 2
        }
      ]
    },
    {
      "cell_type": "code",
      "metadata": {
        "colab": {
          "base_uri": "https://localhost:8080/"
        },
        "id": "7e0Bi_7DQoO1",
        "outputId": "e5a193a4-33c8-4e78-9e72-3b35d7f2b40f"
      },
      "source": [
        "# set the number of messages to be passed to input layer\n",
        "# and save the msg to be inputted to model\n",
        "# due to dataset size, we will split the scenario in 3 parts\n",
        "# of 15 simulations each\n",
        "start_time = time.time()\n",
        "n = 7\n",
        "os.chdir(veremiPath+t2Path+simcsvPath)\n",
        "sims = len(os.listdir()[0:15])\n",
        "for idx, item in enumerate(os.listdir()[0:15]):\n",
        "  data = pd.read_csv(item, index_col=0)\n",
        "  data = data.drop(columns=['type', 'noise', 'spd_noise', 'pos_noise', 'messageID'])\n",
        "  a = pd.Series(data['receiver'].unique().astype(int)).sort_values().reset_index(drop=True)\n",
        "  b = pd.Series(data['sender'].unique().astype(int)).sort_values().reset_index(drop=True)\n",
        "  vehicles = pd.concat([a, b], ignore_index=True).unique()\n",
        "  size = len(vehicles)\n",
        "  dataset = []\n",
        "  newdata = []\n",
        "\n",
        "  for i, r in enumerate(vehicles):\n",
        "    # if i <= 1:\n",
        "      for s in data['sender'].loc[data['receiver'] == r].astype(int).unique():\n",
        "        print('\\r', 'simulation '+str(idx+1)+' of '+str(sims), ', vehicle '+str(i+1)+' of '+str(size), \" in {:.2f}\".format(time.time() - start_time)+' sec', sep='', end='', flush=True)\n",
        "        l = len(data.loc[(data['receiver'] == r) & (data['sender'] == s)])\n",
        "        if l >= n:\n",
        "          newdata = data[['rcvTime', 'sendTime', 'RSSI', 'pxRcv', 'pyRcv', 'pzRcv']].loc[(data['receiver'] == r) & (data['sender'] == s)].head(n).values\n",
        "          # split the position and speed vector\n",
        "          for pos in data['pos'].loc[(data['sender'] == s) & (data['receiver'] == r)].head(n).values:\n",
        "            p = pos.split(',')\n",
        "            px = float(p[0][1:])\n",
        "            py = float(p[1])\n",
        "            pz = float(p[2][:-1])\n",
        "            newdata = np.append(newdata, [px, py, pz])\n",
        "          for spd in data['spd'].loc[(data['sender'] == s) & (data['receiver'] == r)].head(n).values:\n",
        "            sp = spd.split(',')\n",
        "            sx = float(sp[0][1:])\n",
        "            sy = float(sp[1])\n",
        "            sz = float(sp[2][:-1])\n",
        "            newdata = np.append(newdata, [sx, sy, sz])\n",
        "          newdata = np.append(newdata, data['attackerType'].loc[(data['receiver'] == r) & (data['sender'] == s)].unique()[0])\n",
        "          dataset.append(newdata)\n",
        "\n",
        "\n",
        "df = pd.DataFrame(dataset)\n",
        "os.chdir(veremiPath+t2Path+mlp002Path)\n",
        "print('\\rSaving', sep='', end='', flush=True)\n",
        "# scenario 1 - simulations 0 - 15 - with label\n",
        "df.to_csv('s1part1of5.csv')\n",
        "print('\\rDone in ', \"{:.2f}\".format(time.time() - start_time)+' sec', sep='', end='', flush=True)"
      ],
      "execution_count": null,
      "outputs": [
        {
          "output_type": "stream",
          "name": "stdout",
          "text": [
            "Done in 58.00 sec"
          ]
        }
      ]
    },
    {
      "cell_type": "code",
      "metadata": {
        "colab": {
          "base_uri": "https://localhost:8080/"
        },
        "id": "bgYtf6SiZAWR",
        "outputId": "c9dfcc1d-c1d4-4924-c1db-ef3237e90477"
      },
      "source": [
        "# set the number of messages to be passed to input layer\n",
        "# and save the msg to be inputted to model\n",
        "# due to dataset size, we will split the scenario in 3 parts\n",
        "# of 15 simulations each\n",
        "start_time = time.time()\n",
        "# number of interactions to be passed to input layer\n",
        "n = 7\n",
        "os.chdir(veremiPath+t2Path+simcsvPath)\n",
        "sims = len(os.listdir()[15:30])\n",
        "for idx, item in enumerate(os.listdir()[15:30]):\n",
        "  data = pd.read_csv(item, index_col=0)\n",
        "  data = data.drop(columns=['type', 'noise', 'spd_noise', 'pos_noise', 'messageID'])\n",
        "  a = pd.Series(data['receiver'].unique().astype(int)).sort_values().reset_index(drop=True)\n",
        "  b = pd.Series(data['sender'].unique().astype(int)).sort_values().reset_index(drop=True)\n",
        "  vehicles = pd.concat([a, b], ignore_index=True).unique()\n",
        "  size = len(vehicles)\n",
        "  dataset = []\n",
        "  newdata = []\n",
        "\n",
        "  for i, r in enumerate(vehicles):\n",
        "    # if i <= 1:\n",
        "      for s in data['sender'].loc[data['receiver'] == r].astype(int).unique():\n",
        "        print('\\r', 'simulation '+str(idx+1)+' of '+str(sims), ', vehicle '+str(i+1)+' of '+str(size), \" in {:.2f}\".format(time.time() - start_time)+' sec', sep='', end='', flush=True)\n",
        "        l = len(data.loc[(data['receiver'] == r) & (data['sender'] == s)])\n",
        "        if l >= n:\n",
        "          newdata = data[['rcvTime', 'sendTime', 'RSSI', 'pxRcv', 'pyRcv', 'pzRcv']].loc[(data['receiver'] == r) & (data['sender'] == s)].head(n).values\n",
        "          # split the position and speed vector\n",
        "          for pos in data['pos'].loc[(data['sender'] == s) & (data['receiver'] == r)].head(n).values:\n",
        "            p = pos.split(',')\n",
        "            px = float(p[0][1:])\n",
        "            py = float(p[1])\n",
        "            pz = float(p[2][:-1])\n",
        "            newdata = np.append(newdata, [px, py, pz])\n",
        "          for spd in data['spd'].loc[(data['sender'] == s) & (data['receiver'] == r)].head(n).values:\n",
        "            sp = spd.split(',')\n",
        "            sx = float(sp[0][1:])\n",
        "            sy = float(sp[1])\n",
        "            sz = float(sp[2][:-1])\n",
        "            newdata = np.append(newdata, [sx, sy, sz])\n",
        "          newdata = np.append(newdata, data['attackerType'].loc[(data['receiver'] == r) & (data['sender'] == s)].unique()[0])\n",
        "          dataset.append(newdata)\n",
        "\n",
        "df = pd.DataFrame(dataset)\n",
        "os.chdir(veremiPath+t2Path+mlp002Path)\n",
        "print('\\rSaving', sep='', end='', flush=True)\n",
        "# scenario 1 - simulations 0 - 15 - with label\n",
        "df.to_csv('s1part2of5.csv')\n",
        "print('\\rDone in ', \"{:.2f}\".format(time.time() - start_time)+' sec', sep='', end='', flush=True)"
      ],
      "execution_count": null,
      "outputs": [
        {
          "output_type": "stream",
          "name": "stdout",
          "text": [
            "Done in 356.45 sec"
          ]
        }
      ]
    },
    {
      "cell_type": "code",
      "metadata": {
        "colab": {
          "base_uri": "https://localhost:8080/"
        },
        "id": "7ds72pK_ZZNe",
        "outputId": "4a5f7f6e-8ff2-45b6-fa3c-a4e9c0becef8"
      },
      "source": [
        "# last 15 simulations of each scenario are denser\n",
        "# thus i split in 3 parts due to processing time\n",
        "start_time = time.time()\n",
        "# number of interactions to be passed to input layer\n",
        "n = 7\n",
        "os.chdir(veremiPath+t2Path+simcsvPath)\n",
        "sims = len(os.listdir()[30:35])\n",
        "for idx, item in enumerate(os.listdir()[30:35]):\n",
        "  data = pd.read_csv(item, index_col=0)\n",
        "  data = data.drop(columns=['type', 'noise', 'spd_noise', 'pos_noise', 'messageID'])\n",
        "  a = pd.Series(data['receiver'].unique().astype(int)).sort_values().reset_index(drop=True)\n",
        "  b = pd.Series(data['sender'].unique().astype(int)).sort_values().reset_index(drop=True)\n",
        "  vehicles = pd.concat([a, b], ignore_index=True).unique()\n",
        "  size = len(vehicles)\n",
        "  dataset = []\n",
        "  newdata = []\n",
        "\n",
        "  for i, r in enumerate(vehicles):\n",
        "    # if i <= 1:\n",
        "      for s in data['sender'].loc[data['receiver'] == r].astype(int).unique():\n",
        "        print('\\r', 'simulation '+str(idx+1)+' of '+str(sims), ', vehicle '+str(i+1)+' of '+str(size), \" in {:.2f}\".format(time.time() - start_time)+' sec', sep='', end='', flush=True)\n",
        "        l = len(data.loc[(data['receiver'] == r) & (data['sender'] == s)])\n",
        "        if l >= n:\n",
        "          newdata = data[['rcvTime',\n",
        "                          'sendTime',\n",
        "                          'RSSI',\n",
        "                          'pxRcv',\n",
        "                          'pyRcv',\n",
        "                          'pzRcv']].loc[(data['receiver'] == r) & (data['sender'] == s)].head(n).values\n",
        "          # split the position and speed vector\n",
        "          for pos in data['pos'].loc[(data['sender'] == s) & (data['receiver'] == r)].head(n).values:\n",
        "            p = pos.split(',')\n",
        "            px = float(p[0][1:])\n",
        "            py = float(p[1])\n",
        "            pz = float(p[2][:-1])\n",
        "            newdata = np.append(newdata, [px, py, pz])\n",
        "          for spd in data['spd'].loc[(data['sender'] == s) & (data['receiver'] == r)].head(n).values:\n",
        "            sp = spd.split(',')\n",
        "            sx = float(sp[0][1:])\n",
        "            sy = float(sp[1])\n",
        "            sz = float(sp[2][:-1])\n",
        "            newdata = np.append(newdata, [sx, sy, sz])\n",
        "          newdata = np.append(newdata, data['attackerType'].loc[(data['receiver'] == r) & (data['sender'] == s)].unique()[0])\n",
        "          dataset.append(newdata)\n",
        "\n",
        "df = pd.DataFrame(dataset)\n",
        "os.chdir(veremiPath+t2Path+mlp002Path)\n",
        "print('\\rSaving', sep='', end='', flush=True)\n",
        "# scenario 1 - simulations 0 - 15 - with label\n",
        "df.to_csv('s1part3of5.csv')\n",
        "print('\\rDone in ', \"{:.2f}\".format(time.time() - start_time)+' sec', sep='', end='', flush=True)"
      ],
      "execution_count": null,
      "outputs": [
        {
          "output_type": "stream",
          "name": "stdout",
          "text": [
            "Done in 3717.44 sec"
          ]
        }
      ]
    },
    {
      "cell_type": "code",
      "metadata": {
        "colab": {
          "base_uri": "https://localhost:8080/"
        },
        "id": "Ue8YFa0eCTIo",
        "outputId": "5cd8da72-7777-4ecb-c04f-a00f911f7e7e"
      },
      "source": [
        "# last 15 simulations of each scenario are denser\n",
        "# thus i split in 3 parts due to processing time\n",
        "start_time = time.time()\n",
        "# number of interactions to be passed to input layer\n",
        "n = 7\n",
        "os.chdir(veremiPath+t2Path+simcsvPath)\n",
        "sims = len(os.listdir()[35:40])\n",
        "for idx, item in enumerate(os.listdir()[35:40]):\n",
        "  data = pd.read_csv(item, index_col=0)\n",
        "  data = data.drop(columns=['type', 'noise', 'spd_noise', 'pos_noise', 'messageID'])\n",
        "  a = pd.Series(data['receiver'].unique().astype(int)).sort_values().reset_index(drop=True)\n",
        "  b = pd.Series(data['sender'].unique().astype(int)).sort_values().reset_index(drop=True)\n",
        "  vehicles = pd.concat([a, b], ignore_index=True).unique()\n",
        "  size = len(vehicles)\n",
        "  dataset = []\n",
        "  newdata = []\n",
        "\n",
        "  for i, r in enumerate(vehicles):\n",
        "    # if i <= 1:\n",
        "      for s in data['sender'].loc[data['receiver'] == r].astype(int).unique():\n",
        "        print('\\r', 'simulation '+str(idx+1)+' of '+str(sims), ', vehicle '+str(i+1)+' of '+str(size), \" in {:.2f}\".format(time.time() - start_time)+' sec', sep='', end='', flush=True)\n",
        "        l = len(data.loc[(data['receiver'] == r) & (data['sender'] == s)])\n",
        "        if l >= n:\n",
        "          newdata = data[['rcvTime',\n",
        "                          'sendTime',\n",
        "                          'RSSI',\n",
        "                          'pxRcv',\n",
        "                          'pyRcv',\n",
        "                          'pzRcv']].loc[(data['receiver'] == r) & (data['sender'] == s)].head(n).values\n",
        "          # split the position and speed vector\n",
        "          for pos in data['pos'].loc[(data['sender'] == s) & (data['receiver'] == r)].head(n).values:\n",
        "            p = pos.split(',')\n",
        "            px = float(p[0][1:])\n",
        "            py = float(p[1])\n",
        "            pz = float(p[2][:-1])\n",
        "            newdata = np.append(newdata, [px, py, pz])\n",
        "          for spd in data['spd'].loc[(data['sender'] == s) & (data['receiver'] == r)].head(n).values:\n",
        "            sp = spd.split(',')\n",
        "            sx = float(sp[0][1:])\n",
        "            sy = float(sp[1])\n",
        "            sz = float(sp[2][:-1])\n",
        "            newdata = np.append(newdata, [sx, sy, sz])\n",
        "          newdata = np.append(newdata, data['attackerType'].loc[(data['receiver'] == r) & (data['sender'] == s)].unique()[0])\n",
        "          dataset.append(newdata)\n",
        "\n",
        "df = pd.DataFrame(dataset)\n",
        "os.chdir(veremiPath+t2Path+mlp002Path)\n",
        "print('\\rSaving', sep='', end='', flush=True)\n",
        "# scenario 1 - simulations 0 - 15 - with label\n",
        "df.to_csv('s1part4of5.csv')\n",
        "print('\\rDone in ', \"{:.2f}\".format(time.time() - start_time)+' sec', sep='', end='', flush=True)"
      ],
      "execution_count": null,
      "outputs": [
        {
          "output_type": "stream",
          "name": "stdout",
          "text": [
            "Done in 3724.17 sec"
          ]
        }
      ]
    },
    {
      "cell_type": "code",
      "metadata": {
        "colab": {
          "base_uri": "https://localhost:8080/"
        },
        "id": "nhu5gpElCWSi",
        "outputId": "91faef58-096f-4eea-cbb6-109c4fe6b34b"
      },
      "source": [
        "# last 15 simulations of each scenario are denser\n",
        "# thus i split in 3 parts due to processing time\n",
        "start_time = time.time()\n",
        "# number of interactions to be passed to input layer\n",
        "n = 7\n",
        "os.chdir(veremiPath+t2Path+simcsvPath)\n",
        "sims = len(os.listdir()[40:45])\n",
        "for idx, item in enumerate(os.listdir()[40:45]):\n",
        "  data = pd.read_csv(item, index_col=0)\n",
        "  data = data.drop(columns=['type', 'noise', 'spd_noise', 'pos_noise', 'messageID'])\n",
        "  a = pd.Series(data['receiver'].unique().astype(int)).sort_values().reset_index(drop=True)\n",
        "  b = pd.Series(data['sender'].unique().astype(int)).sort_values().reset_index(drop=True)\n",
        "  vehicles = pd.concat([a, b], ignore_index=True).unique()\n",
        "  size = len(vehicles)\n",
        "  dataset = []\n",
        "  newdata = []\n",
        "\n",
        "  for i, r in enumerate(vehicles):\n",
        "    # if i <= 1:\n",
        "      for s in data['sender'].loc[data['receiver'] == r].astype(int).unique():\n",
        "        print('\\r', 'simulation '+str(idx+1)+' of '+str(sims), ', vehicle '+str(i+1)+' of '+str(size), \" in {:.2f}\".format(time.time() - start_time)+' sec', sep='', end='', flush=True)\n",
        "        l = len(data.loc[(data['receiver'] == r) & (data['sender'] == s)])\n",
        "        if l >= n:\n",
        "          newdata = data[['rcvTime',\n",
        "                          'sendTime',\n",
        "                          'RSSI',\n",
        "                          'pxRcv',\n",
        "                          'pyRcv',\n",
        "                          'pzRcv']].loc[(data['receiver'] == r) & (data['sender'] == s)].head(n).values\n",
        "          # split the position and speed vector\n",
        "          for pos in data['pos'].loc[(data['sender'] == s) & (data['receiver'] == r)].head(n).values:\n",
        "            p = pos.split(',')\n",
        "            px = float(p[0][1:])\n",
        "            py = float(p[1])\n",
        "            pz = float(p[2][:-1])\n",
        "            newdata = np.append(newdata, [px, py, pz])\n",
        "          for spd in data['spd'].loc[(data['sender'] == s) & (data['receiver'] == r)].head(n).values:\n",
        "            sp = spd.split(',')\n",
        "            sx = float(sp[0][1:])\n",
        "            sy = float(sp[1])\n",
        "            sz = float(sp[2][:-1])\n",
        "            newdata = np.append(newdata, [sx, sy, sz])\n",
        "          newdata = np.append(newdata, data['attackerType'].loc[(data['receiver'] == r) & (data['sender'] == s)].unique()[0])\n",
        "          dataset.append(newdata)\n",
        "\n",
        "df = pd.DataFrame(dataset)\n",
        "os.chdir(veremiPath+t2Path+mlp002Path)\n",
        "print('\\rSaving', sep='', end='', flush=True)\n",
        "# scenario 1 - simulations 0 - 15 - with label\n",
        "df.to_csv('s1part5of5.csv')\n",
        "print('\\rDone in ', \"{:.2f}\".format(time.time() - start_time)+' sec', sep='', end='', flush=True)"
      ],
      "execution_count": null,
      "outputs": [
        {
          "output_type": "stream",
          "name": "stdout",
          "text": [
            "Done in 3853.27 sec"
          ]
        }
      ]
    },
    {
      "cell_type": "code",
      "metadata": {
        "id": "GaN9yeu1SKsl"
      },
      "source": [
        "os.chdir(veremiPath+t2Path+mlp002Path)\n",
        "part1 = pd.read_csv('s1part1of5.csv', index_col=0)\n",
        "part2 = pd.read_csv('s1part2of5.csv', index_col=0)\n",
        "part3 = pd.read_csv('s1part3of5.csv', index_col=0)\n",
        "part4 = pd.read_csv('s1part4of5.csv', index_col=0)\n",
        "part5 = pd.read_csv('s1part5of5.csv', index_col=0)"
      ],
      "execution_count": null,
      "outputs": []
    },
    {
      "cell_type": "code",
      "metadata": {
        "colab": {
          "base_uri": "https://localhost:8080/"
        },
        "id": "7LLwtBbUfiE_",
        "outputId": "7eb97d06-eb38-4aea-efa3-d480589fe718"
      },
      "source": [
        "print(part1.shape, part2.shape, part3.shape, part4.shape, part5.shape)\n",
        "dataset = pd.concat([part1, part2, part3, part4, part5])\n",
        "dataset.shape"
      ],
      "execution_count": null,
      "outputs": [
        {
          "output_type": "stream",
          "name": "stdout",
          "text": [
            "(216, 85) (1050, 85) (20737, 85) (20782, 85) (20662, 85)\n"
          ]
        },
        {
          "output_type": "execute_result",
          "data": {
            "text/plain": [
              "(63447, 85)"
            ]
          },
          "metadata": {},
          "execution_count": 4
        }
      ]
    },
    {
      "cell_type": "code",
      "metadata": {
        "colab": {
          "base_uri": "https://localhost:8080/"
        },
        "id": "YGw34fLH_Xk3",
        "outputId": "687194fa-220b-4859-b95f-8e31716279fa"
      },
      "source": [
        "# balanceamento de classes\n",
        "len0 = len(dataset.iloc[:, -1].loc[dataset.iloc[:, -1] == 0])\n",
        "len1 = len(dataset.iloc[:, -1].loc[dataset.iloc[:, -1] == 1])\n",
        "print('qtd 0 = ', len0)\n",
        "print('qtd 1 = ', len1)\n",
        "print('qtd 0 = ', len0*100/(len0+len1), '%')"
      ],
      "execution_count": null,
      "outputs": [
        {
          "output_type": "stream",
          "name": "stdout",
          "text": [
            "qtd 0 =  51168\n",
            "qtd 1 =  12279\n",
            "qtd 0 =  80.646839094047 %\n"
          ]
        }
      ]
    },
    {
      "cell_type": "code",
      "metadata": {
        "colab": {
          "base_uri": "https://localhost:8080/"
        },
        "id": "_xC9vtTZuiLq",
        "outputId": "768424a4-46c1-48bb-870e-f7c727ea44dd"
      },
      "source": [
        "from sklearn.model_selection import train_test_split\n",
        "from sklearn import preprocessing\n",
        "from sklearn.preprocessing import MultiLabelBinarizer\n",
        "# split data and label\n",
        "data = dataset.iloc[:, 1:85].values\n",
        "classes = dataset.iloc[:, -1].values\n",
        "# multilabel binarize\n",
        "lb = preprocessing.LabelBinarizer()\n",
        "lb.fit(classes)\n",
        "lb.classes_\n",
        "classes = lb.transform(classes)\n",
        "classes = MultiLabelBinarizer().fit_transform(classes)\n",
        "# split test and train\n",
        "data_train, data_test, classes_train, classes_test = train_test_split(data, classes, test_size=0.2, random_state=1)\n",
        "print('data_train', data_train.shape)\n",
        "print('data_test', data_test.shape)\n",
        "print('classes_train', classes_train.shape)\n",
        "print('classes_test', classes_test.shape)"
      ],
      "execution_count": null,
      "outputs": [
        {
          "output_type": "stream",
          "name": "stdout",
          "text": [
            "data_train (50757, 84)\n",
            "data_test (12690, 84)\n",
            "classes_train (50757, 2)\n",
            "classes_test (12690, 2)\n"
          ]
        }
      ]
    },
    {
      "cell_type": "code",
      "metadata": {
        "colab": {
          "base_uri": "https://localhost:8080/"
        },
        "id": "goAhhBB1On9v",
        "outputId": "88be040d-82b1-4503-f8b1-446e807428a3"
      },
      "source": [
        "# model relu\n",
        "# input layer 84 neurons\n",
        "# 2 hidden layers - 20 neurons each\n",
        "# 2 output layer - sigmoid\n",
        "# activation function - SGD\n",
        "# loss function - \n",
        "layer1 = keras.Input(shape=(84,))\n",
        "layer2 = keras.layers.Dense(20, activation=\"relu\")(layer1)\n",
        "layer3 = keras.layers.Dense(20, activation=\"relu\")(layer2)\n",
        "output = keras.layers.Dense(2, activation=\"softmax\")(layer3)\n",
        "modelrelu = keras.Model(inputs=layer1, outputs=output, name='mlp002relu')\n",
        "print(modelrelu.summary())\n",
        "# keras.utils.plot_model(model, \"my_model.png\", show_shapes=True)\n",
        "modelrelu.compile(\n",
        "    loss=keras.losses.BinaryCrossentropy(),\n",
        "    optimizer=keras.optimizers.Adam(learning_rate=1e-3),\n",
        "    metrics=[tf.keras.metrics.BinaryAccuracy(),\n",
        "             tf.keras.metrics.FalseNegatives()],\n",
        ")"
      ],
      "execution_count": null,
      "outputs": [
        {
          "output_type": "stream",
          "name": "stdout",
          "text": [
            "Model: \"mlp002relu\"\n",
            "_________________________________________________________________\n",
            " Layer (type)                Output Shape              Param #   \n",
            "=================================================================\n",
            " input_1 (InputLayer)        [(None, 84)]              0         \n",
            "                                                                 \n",
            " dense (Dense)               (None, 20)                1700      \n",
            "                                                                 \n",
            " dense_1 (Dense)             (None, 20)                420       \n",
            "                                                                 \n",
            " dense_2 (Dense)             (None, 2)                 42        \n",
            "                                                                 \n",
            "=================================================================\n",
            "Total params: 2,162\n",
            "Trainable params: 2,162\n",
            "Non-trainable params: 0\n",
            "_________________________________________________________________\n",
            "None\n"
          ]
        }
      ]
    },
    {
      "cell_type": "code",
      "metadata": {
        "colab": {
          "base_uri": "https://localhost:8080/"
        },
        "id": "AyajCrM7-vIN",
        "outputId": "95f5687d-779d-476f-f0e2-79d9ac334f39"
      },
      "source": [
        "modelrelu.fit(data_train, classes_train, batch_size=100, epochs=5)\n",
        "modelrelu.save(veremiPath+t2Path+mlp002Path+'/relu')"
      ],
      "execution_count": null,
      "outputs": [
        {
          "output_type": "stream",
          "name": "stdout",
          "text": [
            "Epoch 1/5\n",
            "508/508 [==============================] - 2s 2ms/step - loss: 50.4008 - binary_accuracy: 0.7870 - false_negatives: 10812.0000\n",
            "Epoch 2/5\n",
            "508/508 [==============================] - 1s 2ms/step - loss: 8.0784 - binary_accuracy: 0.8360 - false_negatives: 8322.0000\n",
            "Epoch 3/5\n",
            "508/508 [==============================] - 1s 2ms/step - loss: 6.9194 - binary_accuracy: 0.8386 - false_negatives: 8190.0000\n",
            "Epoch 4/5\n",
            "508/508 [==============================] - 1s 2ms/step - loss: 6.2863 - binary_accuracy: 0.8364 - false_negatives: 8305.0000\n",
            "Epoch 5/5\n",
            "508/508 [==============================] - 1s 2ms/step - loss: 6.4217 - binary_accuracy: 0.8387 - false_negatives: 8185.0000\n",
            "INFO:tensorflow:Assets written to: /content/drive/MyDrive/dataset/veremi/veremiWithT2/mlp002/relu/assets\n"
          ]
        }
      ]
    },
    {
      "cell_type": "code",
      "metadata": {
        "id": "2SSqXv4qjwU-"
      },
      "source": [
        "modelrelu = keras.models.load_model(veremiPath+t2Path+mlp002Path+'/relu')"
      ],
      "execution_count": null,
      "outputs": []
    },
    {
      "cell_type": "code",
      "metadata": {
        "colab": {
          "base_uri": "https://localhost:8080/",
          "height": 300
        },
        "id": "yyvhW7WoJYED",
        "outputId": "d9002cb5-6b05-4901-8cad-fb9fb034fdc1"
      },
      "source": [
        "predictsrelu = modelrelu.predict(data_test)\n",
        "predictsrelu[predictsrelu <= 0.5] = 0.\n",
        "predictsrelu[predictsrelu > 0.5] = 1.\n",
        "pd.DataFrame(predictsrelu).describe()"
      ],
      "execution_count": null,
      "outputs": [
        {
          "output_type": "execute_result",
          "data": {
            "text/html": [
              "<div>\n",
              "<style scoped>\n",
              "    .dataframe tbody tr th:only-of-type {\n",
              "        vertical-align: middle;\n",
              "    }\n",
              "\n",
              "    .dataframe tbody tr th {\n",
              "        vertical-align: top;\n",
              "    }\n",
              "\n",
              "    .dataframe thead th {\n",
              "        text-align: right;\n",
              "    }\n",
              "</style>\n",
              "<table border=\"1\" class=\"dataframe\">\n",
              "  <thead>\n",
              "    <tr style=\"text-align: right;\">\n",
              "      <th></th>\n",
              "      <th>0</th>\n",
              "      <th>1</th>\n",
              "    </tr>\n",
              "  </thead>\n",
              "  <tbody>\n",
              "    <tr>\n",
              "      <th>count</th>\n",
              "      <td>12690.000000</td>\n",
              "      <td>12690.000000</td>\n",
              "    </tr>\n",
              "    <tr>\n",
              "      <th>mean</th>\n",
              "      <td>0.993617</td>\n",
              "      <td>0.006383</td>\n",
              "    </tr>\n",
              "    <tr>\n",
              "      <th>std</th>\n",
              "      <td>0.079640</td>\n",
              "      <td>0.079640</td>\n",
              "    </tr>\n",
              "    <tr>\n",
              "      <th>min</th>\n",
              "      <td>0.000000</td>\n",
              "      <td>0.000000</td>\n",
              "    </tr>\n",
              "    <tr>\n",
              "      <th>25%</th>\n",
              "      <td>1.000000</td>\n",
              "      <td>0.000000</td>\n",
              "    </tr>\n",
              "    <tr>\n",
              "      <th>50%</th>\n",
              "      <td>1.000000</td>\n",
              "      <td>0.000000</td>\n",
              "    </tr>\n",
              "    <tr>\n",
              "      <th>75%</th>\n",
              "      <td>1.000000</td>\n",
              "      <td>0.000000</td>\n",
              "    </tr>\n",
              "    <tr>\n",
              "      <th>max</th>\n",
              "      <td>1.000000</td>\n",
              "      <td>1.000000</td>\n",
              "    </tr>\n",
              "  </tbody>\n",
              "</table>\n",
              "</div>"
            ],
            "text/plain": [
              "                  0             1\n",
              "count  12690.000000  12690.000000\n",
              "mean       0.993617      0.006383\n",
              "std        0.079640      0.079640\n",
              "min        0.000000      0.000000\n",
              "25%        1.000000      0.000000\n",
              "50%        1.000000      0.000000\n",
              "75%        1.000000      0.000000\n",
              "max        1.000000      1.000000"
            ]
          },
          "metadata": {},
          "execution_count": 13
        }
      ]
    },
    {
      "cell_type": "code",
      "metadata": {
        "colab": {
          "base_uri": "https://localhost:8080/"
        },
        "id": "0wh6rzsFt6GZ",
        "outputId": "9945c606-2360-4739-e333-9dfa2ad3adab"
      },
      "source": [
        "# model tanh\n",
        "# input layer 84 neurons\n",
        "# 2 hidden layers - 20 neurons each\n",
        "# 2 output layer - sigmoid\n",
        "# activation function - SGD\n",
        "# loss function - \n",
        "layer1 = keras.Input(shape=(84,))\n",
        "layer2 = keras.layers.Dense(20, activation=\"tanh\")(layer1)\n",
        "layer3 = keras.layers.Dense(20, activation=\"tanh\")(layer2)\n",
        "output = keras.layers.Dense(2, activation=\"softmax\")(layer3)\n",
        "modeltanh = keras.Model(inputs=layer1, outputs=output, name='mlp002tanh')\n",
        "print(modeltanh.summary())\n",
        "# keras.utils.plot_model(model, \"my_model.png\", show_shapes=True)\n",
        "modeltanh.compile(\n",
        "    loss=keras.losses.BinaryCrossentropy(),\n",
        "    optimizer=keras.optimizers.Adam(learning_rate=1e-3),\n",
        "    metrics=[tf.keras.metrics.BinaryAccuracy(),\n",
        "             tf.keras.metrics.FalseNegatives()],\n",
        ")"
      ],
      "execution_count": null,
      "outputs": [
        {
          "output_type": "stream",
          "name": "stdout",
          "text": [
            "Model: \"mlp002tanh\"\n",
            "_________________________________________________________________\n",
            " Layer (type)                Output Shape              Param #   \n",
            "=================================================================\n",
            " input_2 (InputLayer)        [(None, 84)]              0         \n",
            "                                                                 \n",
            " dense_3 (Dense)             (None, 20)                1700      \n",
            "                                                                 \n",
            " dense_4 (Dense)             (None, 20)                420       \n",
            "                                                                 \n",
            " dense_5 (Dense)             (None, 2)                 42        \n",
            "                                                                 \n",
            "=================================================================\n",
            "Total params: 2,162\n",
            "Trainable params: 2,162\n",
            "Non-trainable params: 0\n",
            "_________________________________________________________________\n",
            "None\n"
          ]
        }
      ]
    },
    {
      "cell_type": "code",
      "metadata": {
        "colab": {
          "base_uri": "https://localhost:8080/"
        },
        "id": "HuqjE94cuNhb",
        "outputId": "3979873d-3207-46fd-c3e2-f69378e84b99"
      },
      "source": [
        "modeltanh.fit(data_train, classes_train, batch_size=100, epochs=5)\n",
        "modeltanh.save(veremiPath+t2Path+mlp002Path+'/tanh')"
      ],
      "execution_count": null,
      "outputs": [
        {
          "output_type": "stream",
          "name": "stdout",
          "text": [
            "Epoch 1/5\n",
            "508/508 [==============================] - 2s 2ms/step - loss: 0.4933 - binary_accuracy: 0.8059 - false_negatives_1: 9853.0000\n",
            "Epoch 2/5\n",
            "508/508 [==============================] - 1s 2ms/step - loss: 0.4923 - binary_accuracy: 0.8059 - false_negatives_1: 9853.0000\n",
            "Epoch 3/5\n",
            "508/508 [==============================] - 1s 2ms/step - loss: 0.4920 - binary_accuracy: 0.8059 - false_negatives_1: 9853.0000\n",
            "Epoch 4/5\n",
            "508/508 [==============================] - 1s 2ms/step - loss: 0.4918 - binary_accuracy: 0.8059 - false_negatives_1: 9853.0000\n",
            "Epoch 5/5\n",
            "508/508 [==============================] - 1s 2ms/step - loss: 0.4920 - binary_accuracy: 0.8059 - false_negatives_1: 9853.0000\n",
            "INFO:tensorflow:Assets written to: /content/drive/MyDrive/dataset/veremi/veremiWithT2/mlp002/tanh/assets\n"
          ]
        }
      ]
    },
    {
      "cell_type": "code",
      "metadata": {
        "id": "nSbWHquPuWUb"
      },
      "source": [
        "modeltanh = keras.models.load_model(veremiPath+t2Path+mlp002Path+'/tanh')"
      ],
      "execution_count": null,
      "outputs": []
    },
    {
      "cell_type": "code",
      "metadata": {
        "colab": {
          "base_uri": "https://localhost:8080/",
          "height": 300
        },
        "id": "aggEcMlVuc_i",
        "outputId": "1cfd3a9c-42fd-466e-bb15-5cae2c1184cd"
      },
      "source": [
        "predictstanh = modeltanh.predict(data_test)\n",
        "predictstanh[predictstanh <= 0.5] = 0.\n",
        "predictstanh[predictstanh > 0.5] = 1.\n",
        "pd.DataFrame(predictstanh).describe()"
      ],
      "execution_count": null,
      "outputs": [
        {
          "output_type": "execute_result",
          "data": {
            "text/html": [
              "<div>\n",
              "<style scoped>\n",
              "    .dataframe tbody tr th:only-of-type {\n",
              "        vertical-align: middle;\n",
              "    }\n",
              "\n",
              "    .dataframe tbody tr th {\n",
              "        vertical-align: top;\n",
              "    }\n",
              "\n",
              "    .dataframe thead th {\n",
              "        text-align: right;\n",
              "    }\n",
              "</style>\n",
              "<table border=\"1\" class=\"dataframe\">\n",
              "  <thead>\n",
              "    <tr style=\"text-align: right;\">\n",
              "      <th></th>\n",
              "      <th>0</th>\n",
              "      <th>1</th>\n",
              "    </tr>\n",
              "  </thead>\n",
              "  <tbody>\n",
              "    <tr>\n",
              "      <th>count</th>\n",
              "      <td>12690.0</td>\n",
              "      <td>12690.0</td>\n",
              "    </tr>\n",
              "    <tr>\n",
              "      <th>mean</th>\n",
              "      <td>1.0</td>\n",
              "      <td>0.0</td>\n",
              "    </tr>\n",
              "    <tr>\n",
              "      <th>std</th>\n",
              "      <td>0.0</td>\n",
              "      <td>0.0</td>\n",
              "    </tr>\n",
              "    <tr>\n",
              "      <th>min</th>\n",
              "      <td>1.0</td>\n",
              "      <td>0.0</td>\n",
              "    </tr>\n",
              "    <tr>\n",
              "      <th>25%</th>\n",
              "      <td>1.0</td>\n",
              "      <td>0.0</td>\n",
              "    </tr>\n",
              "    <tr>\n",
              "      <th>50%</th>\n",
              "      <td>1.0</td>\n",
              "      <td>0.0</td>\n",
              "    </tr>\n",
              "    <tr>\n",
              "      <th>75%</th>\n",
              "      <td>1.0</td>\n",
              "      <td>0.0</td>\n",
              "    </tr>\n",
              "    <tr>\n",
              "      <th>max</th>\n",
              "      <td>1.0</td>\n",
              "      <td>0.0</td>\n",
              "    </tr>\n",
              "  </tbody>\n",
              "</table>\n",
              "</div>"
            ],
            "text/plain": [
              "             0        1\n",
              "count  12690.0  12690.0\n",
              "mean       1.0      0.0\n",
              "std        0.0      0.0\n",
              "min        1.0      0.0\n",
              "25%        1.0      0.0\n",
              "50%        1.0      0.0\n",
              "75%        1.0      0.0\n",
              "max        1.0      0.0"
            ]
          },
          "metadata": {},
          "execution_count": 17
        }
      ]
    },
    {
      "cell_type": "code",
      "metadata": {
        "id": "9l8_TepFJn9D"
      },
      "source": [
        "from sklearn.metrics import f1_score, accuracy_score\n",
        "accuracyrelu = accuracy_score(classes_test, predictsrelu)\n",
        "f1scorerelu = f1_score(classes_test, predictsrelu, average='micro')\n",
        "accuracytanh = accuracy_score(classes_test, predictstanh)\n",
        "f1scoretanh = f1_score(classes_test, predictstanh, average='micro')"
      ],
      "execution_count": null,
      "outputs": []
    },
    {
      "cell_type": "code",
      "metadata": {
        "colab": {
          "base_uri": "https://localhost:8080/"
        },
        "id": "6-08hwy5upZi",
        "outputId": "6f93b249-7de1-43d3-9ed4-600e6938d8ca"
      },
      "source": [
        "print(accuracyrelu)\n",
        "print(f1scorerelu)\n",
        "print(accuracytanh)\n",
        "print(f1scoretanh)"
      ],
      "execution_count": null,
      "outputs": [
        {
          "output_type": "stream",
          "name": "stdout",
          "text": [
            "0.8131599684791174\n",
            "0.8131599684791175\n",
            "0.8088258471237194\n",
            "0.8088258471237194\n"
          ]
        }
      ]
    }
  ]
}